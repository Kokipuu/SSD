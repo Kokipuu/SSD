{
 "cells": [
  {
   "cell_type": "code",
   "execution_count": null,
   "metadata": {},
   "outputs": [],
   "source": [
    "from utils.ssd_model import SSD\n",
    "from utils.ssd_model import DataTransform\n",
    "import cv2  # OpenCVライブラリ\n",
    "import matplotlib.pyplot as plt \n",
    "import numpy as np\n",
    "import torch\n",
    "from utils.ssd_predict_show import SSDPredictShow\n"
   ]
  },
  {
   "cell_type": "code",
   "execution_count": null,
   "metadata": {},
   "outputs": [],
   "source": []
  },
  {
   "cell_type": "code",
   "execution_count": null,
   "metadata": {},
   "outputs": [],
   "source": [
    "voc_classes = ['cop']\n",
    "\n",
    "# SSDネットワークモデル\n",
    "ssd_cfg = {\n",
    "    'num_classes': 2,  # 背景クラスを含めた合計クラス数\n",
    "    'input_size': 300,  # 画像の入力サイズ\n",
    "    'bbox_aspect_num': [4, 6, 6, 6, 4, 4],  # 出力するDBoxのアスペクト比の種類\n",
    "    'feature_maps': [38, 19, 10, 5, 3, 1],  # 各sourceの画像サイズ\n",
    "    'steps': [8, 16, 32, 64, 100, 300],  # DBOXの大きさを決める\n",
    "    'min_sizes': [21, 45, 99, 153, 207, 261],  # DBOXの大きさを決める\n",
    "    'max_sizes': [45, 99, 153, 207, 261, 315],  # DBOXの大きさを決める\n",
    "    'aspect_ratios': [[2], [2, 3], [2, 3], [2, 3], [2], [2]],\n",
    "}\n",
    "net = SSD(phase=\"inference\", cfg=ssd_cfg)\n",
    "\n",
    "# SSDの学習済みの重みを設定\n",
    "trian_weight_path = 'YOUR_TRAIN_PATH'\n",
    "net_weights = torch.load(trian_weight_path, map_location={'cuda:0': 'cpu'})\n",
    "\n",
    "net.load_state_dict(net_weights)\n"
   ]
  },
  {
   "cell_type": "code",
   "execution_count": null,
   "metadata": {},
   "outputs": [],
   "source": [
    "# ファイルパス\n",
    "test_data_path = 'YOUR_DATA_PATH'\n",
    "test_data = 'YOUR_TEST_DATA'\n",
    "image_file_path = test_data_path + test_data\n",
    "\n",
    "# 予測と、予測結果を画像で描画する\n",
    "ssd = SSDPredictShow(eval_categories=voc_classes, net=net)\n",
    "ssd.show(image_file_path, data_confidence_level=0.5)\n",
    "\n",
    "# ボックスなどを取得\n",
    "rgb_img, predict_bbox, pre_dict_label_index, scores = ssd.ssd_predict(image_file_path)\n",
    "for i in range(len(predict_bbox)):\n",
    "    print('box', predict_bbox[i])\n",
    "    print('label', voc_classes[pre_dict_label_index[i]])\n",
    "    print('score', scores[i])\n",
    "    "
   ]
  },
  {
   "cell_type": "code",
   "execution_count": null,
   "metadata": {},
   "outputs": [],
   "source": []
  },
  {
   "cell_type": "code",
   "execution_count": null,
   "metadata": {},
   "outputs": [],
   "source": []
  }
 ],
 "metadata": {
  "language_info": {
   "name": "python"
  },
  "orig_nbformat": 4
 },
 "nbformat": 4,
 "nbformat_minor": 2
}
